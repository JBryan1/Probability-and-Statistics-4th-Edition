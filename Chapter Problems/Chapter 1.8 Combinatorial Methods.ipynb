{
 "cells": [
  {
   "cell_type": "markdown",
   "metadata": {},
   "source": [
    "### 1. General problem: Count the number of distinct elements in sample space.\n",
    "\n",
    "$n(S) = C_{20,10} = \\frac{20!}{(20-10)!10!} = \\frac{20!}{10!10!}$ "
   ]
  },
  {
   "cell_type": "markdown",
   "metadata": {},
   "source": [
    "### 1. GP: Assess inequality\n",
    "\n",
    "$\\binom{93}{30}$ and $\\binom{93}{31}$\n",
    "\n",
    "$\\binom{93}{30} = \\frac{93!}{(93-30)!30!} = \\frac{93!}{63!30!}$\n",
    "\n",
    "$\\binom{93}{31} = \\frac{93!}{(93-31)!31!} = \\frac{93!}{62!31!}$\n",
    "\n",
    "Because $\\frac{93!}{63!30!} * \\frac{63}{31} =  \\frac{93!}{62!31!}$ and $\\frac{63}{31} > 1$ we can show  $\\binom{93}{30} < \\binom{93}{31}$"
   ]
  },
  {
   "cell_type": "markdown",
   "metadata": {},
   "source": []
  },
  {
   "cell_type": "code",
   "execution_count": null,
   "metadata": {
    "collapsed": true
   },
   "outputs": [],
   "source": []
  }
 ],
 "metadata": {
  "anaconda-cloud": {},
  "kernelspec": {
   "display_name": "Python [default]",
   "language": "python",
   "name": "python3"
  },
  "language_info": {
   "codemirror_mode": {
    "name": "ipython",
    "version": 3
   },
   "file_extension": ".py",
   "mimetype": "text/x-python",
   "name": "python",
   "nbconvert_exporter": "python",
   "pygments_lexer": "ipython3",
   "version": "3.5.2"
  }
 },
 "nbformat": 4,
 "nbformat_minor": 1
}
