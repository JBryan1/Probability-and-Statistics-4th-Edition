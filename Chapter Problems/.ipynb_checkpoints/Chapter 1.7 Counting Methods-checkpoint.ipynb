{
 "cells": [
  {
   "cell_type": "markdown",
   "metadata": {},
   "source": [
    "### 1. General problem: Count the number of distinct elements in sample space.\n",
    "\n",
    "$7 * 2 = 14$ (Multiplication rule)."
   ]
  },
  {
   "cell_type": "markdown",
   "metadata": {},
   "source": [
    "### 2. GP: \" \"\n",
    "\n",
    "$20 * 18 * 25 = 9,000$ (Multiplication rule)"
   ]
  },
  {
   "cell_type": "markdown",
   "metadata": {},
   "source": [
    "### 3. GP: \" \"\n",
    "$P_{5,5} = \\frac{5!}{(5-5)!} = 5! = 120$ (Permutation) "
   ]
  },
  {
   "cell_type": "markdown",
   "metadata": {},
   "source": [
    "### 4. GP: \" \"\n",
    "$6 * 4 = 24$ (Multiplication rule)"
   ]
  },
  {
   "cell_type": "markdown",
   "metadata": {},
   "source": [
    "### 5. GP: Derivation of simple sample space probability\n",
    "\n",
    "If n() is function that caluclates a number of elements in a sample space, then n(E) is the number of elements in an event and n(S) is the number of elements in a sample space.\n",
    "\n",
    "$n(S) = $6^{4}$ (Multiplication rule)\n",
    "\n",
    "$n(E) = P_{6,4} = \\frac{6!}{(6-4)!} = 6*5*4*3 = 360$ (Permuatation)\n",
    "\n",
    "\n",
    "$P(E) = \\frac{n(E)}{n(S)} = \\frac{360}{6^{4}} = \\frac{5}{18}$"
   ]
  },
  {
   "cell_type": "markdown",
   "metadata": {},
   "source": [
    "### 6. GP: \" \"\n",
    "\n",
    "$n(S) = 6^6$ (Multiplication rule)\n",
    "\n",
    "$n(E) = 6!$  (Permutation)\n",
    "\n",
    "$P(E) = \\frac{n(E)}{n(S)} = \\frac{6!}{6^6} = \\frac{5!}{6^5}$"
   ]
  },
  {
   "cell_type": "markdown",
   "metadata": {},
   "source": [
    "### 7. GP: \" \"\n",
    "\n",
    "$n(S) = 20^{12}$ (Multiplication rule)\n",
    "\n",
    "$n(E) = P_{20,12} = \\frac{20!}{(20-12)!} = \\frac{20!}{8!}$ (Permutation)\n",
    "\n",
    "$P(E) = \\frac{n(E)}{n(S)} = \\frac{\\frac{20!}{8!}}{20^{12}} = \\frac{19!}{20^{11}8!}$"
   ]
  },
  {
   "cell_type": "markdown",
   "metadata": {},
   "source": [
    "### 8. GP: \" \"\n",
    "\n",
    "$n(S) = 7^{5}$ (Multiplication rule)\n",
    "\n",
    "$n(E) = P_{7,5} = \\frac{7!}{2!}$ (Permutation)\n",
    "\n",
    "$P(E) = \\frac{n(E)}{n(S)} = \\frac{\\frac{7!}{2!}}{7^{5}} = \\frac{6!}{7^{4}2!}$"
   ]
  },
  {
   "cell_type": "markdown",
   "metadata": {},
   "source": [
    "### 9. GP: \" \"\n",
    "\n",
    "$n(S) = P_{6,6} = 6!$ (Multiplication rule)\n",
    "\n",
    "$n(E) = P_{3,3} * P_{3,3} = 3!*3!$ (Permutation)\n",
    "\n",
    "$P(E) = \\frac{3!*3!}{6!} = \\frac{6}{120} = \\frac{1}{20}$"
   ]
  },
  {
   "cell_type": "markdown",
   "metadata": {},
   "source": [
    "### 10. GP: \" \"\n",
    "\n",
    "(A) $n(S) = P_{100,r} = \\frac{100!}{(100-r)!}$, $n(E) = P_{99,r-1} = \\frac{99!}{(99-r)!}$\n",
    "\n",
    "$P(E) = \\frac{(100-r)!99!}{100!(99-r)!} = \\frac{r}{100}$\n",
    "    "
   ]
  },
  {
   "cell_type": "code",
   "execution_count": null,
   "metadata": {
    "collapsed": true
   },
   "outputs": [],
   "source": []
  }
 ],
 "metadata": {
  "anaconda-cloud": {},
  "kernelspec": {
   "display_name": "Python [default]",
   "language": "python",
   "name": "python3"
  },
  "language_info": {
   "codemirror_mode": {
    "name": "ipython",
    "version": 3
   },
   "file_extension": ".py",
   "mimetype": "text/x-python",
   "name": "python",
   "nbconvert_exporter": "python",
   "pygments_lexer": "ipython3",
   "version": "3.5.2"
  }
 },
 "nbformat": 4,
 "nbformat_minor": 1
}
