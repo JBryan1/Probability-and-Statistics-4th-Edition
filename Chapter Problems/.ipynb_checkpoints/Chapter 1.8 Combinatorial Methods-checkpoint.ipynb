{
 "cells": [
  {
   "cell_type": "markdown",
   "metadata": {},
   "source": [
    "### 1. General problem: Count the number of distinct elements in sample space.\n",
    "\n",
    "$n(S) = C_{20,10} = \\frac{20!}{(20-10)!10!} = \\frac{20!}{10!10!}$ "
   ]
  },
  {
   "cell_type": "markdown",
   "metadata": {},
   "source": [
    "### 2. GP: Assess inequality\n",
    "\n",
    "$\\binom{93}{30}$ and $\\binom{93}{31}$\n",
    "\n",
    "$\\binom{93}{30} = \\frac{93!}{(93-30)!30!} = \\frac{93!}{63!30!}$\n",
    "\n",
    "$\\binom{93}{31} = \\frac{93!}{(93-31)!31!} = \\frac{93!}{62!31!}$\n",
    "\n",
    "Because $\\frac{93!}{63!30!} * \\frac{63}{31} =  \\frac{93!}{62!31!}$ and $\\frac{63}{31} > 1$ we can show  $\\binom{93}{30} < \\binom{93}{31}$"
   ]
  },
  {
   "cell_type": "markdown",
   "metadata": {},
   "source": [
    "### 3. GP: \"\"\n",
    "\n",
    "$\\binom{93}{30}$ and $\\binom{93}{63}$\n",
    "\n",
    "$\\binom{93}{30} = \\frac{93!}{(93-30)!30!}$\n",
    "\n",
    "$\\binom{93}{63} = \\frac{93!}{(93-63)!63!}$\n",
    "\n",
    "Clearly $\\frac{93!}{63!30!} = \\frac{93!}{30!63!}$"
   ]
  },
  {
   "cell_type": "markdown",
   "metadata": {
    "collapsed": true
   },
   "source": [
    "### 4. GP: Derivation of simple sample space probability\n",
    "\n",
    "$n(S) = \\binom{24}{4} = \\frac{24!}{20!4!} = 10626$\n",
    "\n",
    "$n(E) = \\binom{4}{4} = \\frac{4!}{0!4!} = 1$ (There is only one combination of selecting the 4 defective bulbs)\n",
    "\n",
    "$p(E) = \\frac{n(E)}{n(S)} = \\frac{1}{10626}$"
   ]
  },
  {
   "cell_type": "markdown",
   "metadata": {},
   "source": [
    "### 5. GP: Proof\n",
    "\n",
    "$\\frac{4155\\; X\\; 4156 .... 4250\\; X\\; 4251}{2\\; X\\; 3 ... 96\\; X\\; 97} = \\frac{4251!}{(4251 - 97)!97!} =  \\binom{4251}{97}$\n",
    "\n",
    "Because we can represent the above quanitity as a combination we know it must be an integer."
   ]
  },
  {
   "cell_type": "markdown",
   "metadata": {},
   "source": [
    "### 6. GP: Count the number of distinct elements in sample space.\n",
    "\n",
    "$k = 2$\n",
    "\n",
    "$n(S) = P_{n,n} = n!$\n",
    "\n",
    "$n(E) = (n-k+1)! * k! = (n-1)! * 2!$\n",
    "\n",
    "$p(E) = \\frac{n(E)}{n(S)} = \\frac{n-1)! * 2!}{n!} = \\frac{2}{n}$\n"
   ]
  },
  {
   "cell_type": "markdown",
   "metadata": {},
   "source": [
    "### 7. GP: \"\"\n",
    "\n",
    "$n(S) = P_{n,n} = n!$\n",
    "\n",
    "$n(E) = P_{n-k+1, n-k+1} = (n-k+1)! *k!$\n",
    "\n",
    "$p(E) = \\frac{(n-k+1)!k!}{n!}$"
   ]
  },
  {
   "cell_type": "markdown",
   "metadata": {},
   "source": [
    "### 8. GP: \"\"\n",
    "\n",
    "$n(S) = P_{n,k} = \\frac{n!}{(n-k)!}$\n",
    "\n",
    "$n(E) = n * k!$ (As there are n different starting position for the group of k people in a row and there are k! permutations of each starting position)\n",
    "\n",
    "$p(E) = \\frac{n(E)}{n(S)} = \\frac{n*k!(n-k)!}{n!} = \\frac{(n-k)!k!}{(n-1)!}$"
   ]
  },
  {
   "cell_type": "markdown",
   "metadata": {
    "collapsed": true
   },
   "source": [
    "### GP: Derivation of a simple probability space\n",
    "$n(S) = \\binom{2n}{n} = \\frac{(2n)!}{n!n!}$\n",
    "\n",
    "For $n(E)$ think of the event where each person in the line occupies an odd space. This leaves open the rightmost 2nth space that can be postioned in n different spaces plus the original space it was in, therefore:\n",
    "$n(E) = n+1$.\n",
    "\n",
    "$P(E) = \\frac{n(E)}{n(S)} = \\frac{(n+1)}{\\frac{(2n)!}{n!n!}} =\\frac{(n+1)(n!)^2}{(2n)!}$"
   ]
  },
  {
   "cell_type": "code",
   "execution_count": null,
   "metadata": {
    "collapsed": true
   },
   "outputs": [],
   "source": []
  }
 ],
 "metadata": {
  "anaconda-cloud": {},
  "kernelspec": {
   "display_name": "Python [default]",
   "language": "python",
   "name": "python3"
  },
  "language_info": {
   "codemirror_mode": {
    "name": "ipython",
    "version": 3
   },
   "file_extension": ".py",
   "mimetype": "text/x-python",
   "name": "python",
   "nbconvert_exporter": "python",
   "pygments_lexer": "ipython3",
   "version": "3.5.2"
  }
 },
 "nbformat": 4,
 "nbformat_minor": 1
}
