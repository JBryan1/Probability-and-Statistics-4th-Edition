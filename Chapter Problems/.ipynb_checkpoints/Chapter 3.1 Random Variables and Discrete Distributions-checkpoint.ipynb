{
 "cells": [
  {
   "cell_type": "markdown",
   "metadata": {},
   "source": [
    "### 1. General problem: Find probability mass function\n",
    "\n",
    "$X \\sim uniform(\\frac{1}{b-a +1})$\n",
    "\n",
    "$X \\sim uniform(\\frac{1}{11})$\n",
    "\n",
    "$Pr(X\\;is\\;even) = Pr(X = 10) + Pr(X = 12) +...+ Pr(X = 20)$\n",
    "\n",
    "$Pr(X\\;is\\;even) = N_{Even}*Pr(X)$\n",
    "\n",
    "$Pr(X = {10,12,...,20}) = (\\frac{10}{2} + 1)*\\frac{1}{11}$\n",
    "\n",
    "$Pr(X = {10,12,...,20}) = \\frac{6}{11}$"
   ]
  },
  {
   "cell_type": "markdown",
   "metadata": {},
   "source": [
    "### 2. GP: Find probability function constant\n",
    "\n",
    "$\\begin{equation*}\n",
    "f(x)=\n",
    "\\begin{cases}\n",
    "cx, & \\text{for}\\ x=1,...5, \\\\\n",
    "0, & \\text{otherwise}\n",
    "\\end{cases}\\\\\n",
    "\\end{equation*}$\n",
    "\n",
    "$\\sum_{x \\in X} f(x) = 1$\n",
    "\n",
    "$\\sum_{x=1}^5 cx = 1$\n",
    "\n",
    "$\\sum_{x=1}^5 x = \\frac{1}{c}$\n",
    "\n",
    "$1 + 2 +...+5 = \\frac{1}{c}$\n",
    "\n",
    "$15 = \\frac{1}{c}$\n",
    "\n",
    "$c = \\frac{1}{15}$"
   ]
  },
  {
   "cell_type": "markdown",
   "metadata": {},
   "source": [
    "### 3. GP: Find probability function\n",
    "$\\begin{equation}\n",
    "Y_{i} =\n",
    "\\begin{cases}\n",
    "\\frac{1}{6}, & \\text{for}\\; 1,...,6,\\\\\n",
    "0, \\text{otherwise.}\n",
    "\\end{cases}\n",
    "\\end{equation}$\n",
    "\n",
    "$X = |Y_{1}-Y_{2}|$\n",
    "\n",
    "$X = g(Y_1,Y_2)$"
   ]
  },
  {
   "cell_type": "markdown",
   "metadata": {},
   "source": [
    "$X = \\{g(1,1), g(1,2),...,g(6,6)\\}$"
   ]
  },
  {
   "cell_type": "code",
   "execution_count": 69,
   "metadata": {
    "collapsed": false
   },
   "outputs": [],
   "source": [
    "import numpy as np\n",
    "import pandas as pd\n",
    "import matplotlib.pyplot as plt\n",
    "\n",
    "Y1 = [[1]*6,\n",
    "      [2]*6,\n",
    "      [3]*6,\n",
    "      [4]*6,\n",
    "      [5]*6,\n",
    "      [6]*6]\n",
    "Y1 = np.array([val for sublist in Y1 for val in sublist])\n",
    "Y2 = np.array(list(range(1,7))*6)\n",
    "X = abs(Y1 - Y2)"
   ]
  },
  {
   "cell_type": "code",
   "execution_count": 70,
   "metadata": {
    "collapsed": false
   },
   "outputs": [
    {
     "data": {
      "image/png": "[encoded data removed]",
      "text/plain": [
       "<matplotlib.figure.Figure at 0xa86ed30>"
      ]
     },
     "metadata": {},
     "output_type": "display_data"
    }
   ],
   "source": [
    "weights = [1/len(X)]*len(X)\n",
    "plt.hist(X, weights=weights)\n",
    "plt.xlabel('X')\n",
    "plt.ylabel('Probability')\n",
    "plt.title('Histogram of X')\n",
    "plt.show()"
   ]
  },
  {
   "cell_type": "code",
   "execution_count": 71,
   "metadata": {
    "collapsed": false
   },
   "outputs": [
    {
     "name": "stdout",
     "output_type": "stream",
     "text": [
      "[[ 0.          0.16666667]\n",
      " [ 1.          0.27777778]\n",
      " [ 2.          0.22222222]\n",
      " [ 3.          0.16666667]\n",
      " [ 4.          0.11111111]\n",
      " [ 5.          0.05555556]]\n"
     ]
    }
   ],
   "source": [
    "unique, counts = np.unique(X, return_counts=True)\n",
    "n = sum(counts)\n",
    "print(np.asarray((unique, counts/n)).T)"
   ]
  },
  {
   "cell_type": "markdown",
   "metadata": {},
   "source": [
    "#### 4. GP: Find the probability function\n",
    "\n",
    "$n(S) =$ the number of possible unique results of flipping a fair coin 10 times\n",
    "\n",
    "$n(S) = 2^{10}$\n",
    "\n",
    "$n(E) =$ the number of combinations in which there are X heads out of 10 flips\n",
    "\n",
    "$n(E) = C_{10,X} = \\frac{10!}{(10-X)!X!}$\n",
    "\n",
    "$Pr(E) = \\frac{n(S)}{n(E)} = \\frac{10!}{(10-X)!X!2^{10}} = \\binom{10}{X}(\\frac{1}{2}^{10}) = \\binom{10}{X}(\\frac{1}{2}^X)(\\frac{1}{2}^{10 - X})$\n"
   ]
  },
  {
   "cell_type": "code",
   "execution_count": null,
   "metadata": {
    "collapsed": true
   },
   "outputs": [],
   "source": []
  }
 ],
 "metadata": {
  "anaconda-cloud": {},
  "kernelspec": {
   "display_name": "Python [default]",
   "language": "python",
   "name": "python3"
  },
  "language_info": {
   "codemirror_mode": {
    "name": "ipython",
    "version": 3
   },
   "file_extension": ".py",
   "mimetype": "text/x-python",
   "name": "python",
   "nbconvert_exporter": "python",
   "pygments_lexer": "ipython3",
   "version": "3.5.2"
  }
 },
 "nbformat": 4,
 "nbformat_minor": 1
}
